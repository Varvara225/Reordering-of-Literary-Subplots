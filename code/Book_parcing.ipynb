{
  "nbformat": 4,
  "nbformat_minor": 0,
  "metadata": {
    "colab": {
      "provenance": []
    },
    "kernelspec": {
      "name": "python3",
      "display_name": "Python 3"
    },
    "language_info": {
      "name": "python"
    }
  },
  "cells": [
    {
      "cell_type": "code",
      "execution_count": null,
      "metadata": {
        "id": "8ces0velo7qw"
      },
      "outputs": [],
      "source": [
        "import json, pandas as pd"
      ]
    },
    {
      "cell_type": "code",
      "source": [
        "with open('Mikhail_Bulgakov__Master_i_Margarita.txt') as file:\n",
        "  reader = file.read()"
      ],
      "metadata": {
        "id": "fKpwhFJMpIK1"
      },
      "execution_count": null,
      "outputs": []
    },
    {
      "cell_type": "code",
      "source": [
        "text = reader.split('ЧАСТЬ')"
      ],
      "metadata": {
        "id": "Y8SJj_iJpJ0f"
      },
      "execution_count": null,
      "outputs": []
    },
    {
      "cell_type": "code",
      "source": [
        "chapters_1 = text[1].split('Глава')\n",
        "chapters_2 = text[2].split('Глава')"
      ],
      "metadata": {
        "id": "1ooV0kklpLYG"
      },
      "execution_count": null,
      "outputs": []
    },
    {
      "cell_type": "code",
      "source": [
        "def parse_chapter(ch):\n",
        "  data = ch.split('\\n')\n",
        "  return (data[0].strip(' '), data[1], data[2:])"
      ],
      "metadata": {
        "id": "cwAHFsrTpNGd"
      },
      "execution_count": null,
      "outputs": []
    },
    {
      "cell_type": "code",
      "source": [
        "book_dict = {}\n",
        "\n",
        "for c in chapters_1[1:]:\n",
        "  inf = parse_chapter(c)\n",
        "  book_dict['_'.join([inf[0], inf[1]])] = inf[2]\n",
        "\n",
        "for h in chapters_2[1:]:\n",
        "  inf = parse_chapter(h)\n",
        "  book_dict['_'.join([inf[0], inf[1]])] = inf[2]"
      ],
      "metadata": {
        "id": "pwSfbCtqpPAr"
      },
      "execution_count": null,
      "outputs": []
    },
    {
      "cell_type": "code",
      "source": [
        "with open(\"book.json\", \"w\", encoding='utf-8') as outfile:\n",
        "    json.dump(book_dict, outfile, ensure_ascii=False, indent=4)"
      ],
      "metadata": {
        "id": "ryTdGy4Mp5GN"
      },
      "execution_count": null,
      "outputs": []
    }
  ]
}